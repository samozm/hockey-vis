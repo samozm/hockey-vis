{
 "cells": [
  {
   "cell_type": "code",
   "execution_count": 1,
   "metadata": {},
   "outputs": [],
   "source": [
    "import os\n",
    "import sys\n",
    "import getopt\n",
    "import json\n",
    "import requests\n",
    "import math\n",
    "import pandas as pd\n",
    "import matplotlib.pyplot as plt\n",
    "import numpy as np"
   ]
  },
  {
   "cell_type": "code",
   "execution_count": null,
   "metadata": {},
   "outputs": [],
   "source": [
    "def print_graphs(game_id,teams_by_id,schedule,directory):\n",
    "    game = requests.get(\"https://statsapi.web.nhl.com/api/v1/game/\"+str(game_id)+\"/feed/live\")\n",
    "    game = game.json()\n",
    "    game\n",
    "    home = game['gameData']['teams']['home']['id']\n",
    "    away = game['gameData']['teams']['away']['id']\n",
    "    playTypes = [\"Blocked Shot\",\"Shot\",\"Goal\"]\n",
    "    all_shots = []\n",
    "    for play in game['liveData']['plays']['allPlays']:\n",
    "        if play['result']['event'] in playTypes:\n",
    "            all_shots.append(play)\n",
    "    home_shots = pd.DataFrame(columns=[\"r\",\"theta\"])\n",
    "    home_blocked_shots = pd.DataFrame(columns=[\"r\",\"theta\"])\n",
    "    home_goals = pd.DataFrame(columns=[\"r\",\"theta\"])\n",
    "    away_shots = pd.DataFrame(columns=[\"r\",\"theta\"])\n",
    "    away_blocked_shots = pd.DataFrame(columns=[\"r\",\"theta\"])\n",
    "    away_goals = pd.DataFrame(columns=[\"r\",\"theta\"])\n",
    "    for shot in all_shots:\n",
    "        if shot['result']['event']==\"Shot\":\n",
    "            if shot['team']['id'] == home:\n",
    "                home_shots = home_shots.append(pd.DataFrame(flip2pol(shot['coordinates'].copy()),index=[0]))\n",
    "            else:\n",
    "                away_shots = away_shots.append(pd.DataFrame(flip2pol(shot['coordinates'].copy()),index=[0]))\n",
    "        elif shot['result']['event']==\"Blocked Shot\":\n",
    "            if shot['team']['id'] == home:\n",
    "                home_blocked_shots = home_blocked_shots.append(pd.DataFrame(flip2pol(shot['coordinates'].copy()),index=[0]))\n",
    "            else:\n",
    "                away_blocked_shots = away_blocked_shots.append(pd.DataFrame(flip2pol(shot['coordinates'].copy()),index=[0]))\n",
    "        else: \n",
    "            if shot['team']['id'] == home:\n",
    "                home_goals = home_goals.append(pd.DataFrame(flip2pol(shot['coordinates'].copy()),index=[0]))\n",
    "            else:\n",
    "                away_goals = away_goals.append(pd.DataFrame(flip2pol(shot['coordinates'].copy()),index=[0]))\n",
    "    plot_graphs(home_shots,home_blocked_shots,home_goals,teams_by_id[home],schedule['dates'][0]['date'],directory)\n",
    "    plot_graphs(away_shots,away_blocked_shots,away_goals,teams_by_id[away],schedule['dates'][0]['date'],directory)\n",
    "    game"
   ]
  },
  {
   "cell_type": "code",
   "execution_count": null,
   "metadata": {},
   "outputs": [],
   "source": [
    "def plot_graphs(shots,blocked_shots,goals,team_name,date,directory):\n",
    "    fig = plt.figure()\n",
    "    plot = fig.add_subplot(111, projection='polar')\n",
    "    plot.plot(shots['theta'],shots['r'],\"o\",c=\"yellow\",label=\"Shots on Goal\")\n",
    "    plot.plot(blocked_shots['theta'],blocked_shots['r'],\"o\",c=\"red\",label=\"Blocked Shots\")\n",
    "    plot.plot(goals['theta'],goals['r'],\"o\",c=\"green\",label=\"Goals\")\n",
    "    plot.set_xlim([-(math.pi/2),(math.pi/2)])\n",
    "    plot.set_ylim([0,100])\n",
    "    crease_cr=pd.DataFrame(toPol(0,4),index=[0])\n",
    "    crease_cr=crease_cr.append(pd.DataFrame(toPol(4,4),index=[0]))\n",
    "    crease_cr=crease_cr.append(pd.DataFrame(toPol(4,-4),index=[0]))\n",
    "    crease_cr=crease_cr.append(pd.DataFrame(toPol(0,-4),index=[0]))\n",
    "    plot.plot(crease_cr['theta'],crease_cr['r'],c='blue',label=\"Crease\")\n",
    "    #plot.gca().add_artist(plt.Circle((96,0),4,color=\"b\"))\n",
    "    #plot.gca().add_artist(plt.Rectangle((96,-4),8,8,color=\"b\"))\n",
    "    plt.title(team_name + \" Shots\")\n",
    "    plt.legend(bbox_to_anchor=(1.3,1))\n",
    "    plt.savefig(directory + \"/\" + team_name + \" Shots \" + date + '.png')\n",
    "    plt.close(fig)"
   ]
  },
  {
   "cell_type": "code",
   "execution_count": 2,
   "metadata": {},
   "outputs": [],
   "source": [
    "# get all coordinates as positive and change them to polar coordinates\n",
    "def flip2pol(coordinates):\n",
    "    if (coordinates['x'] < 0):\n",
    "        coordinates['x']*=(-1)\n",
    "    coordinates['x'] = 100 - coordinates['x']\n",
    "    return toPol(coordinates['x'],coordinates['y'])\n",
    "\n",
    "def toPol(x,y):\n",
    "    r = np.sqrt((x**2) + (y**2))\n",
    "    if(x!=0):\n",
    "        theta = np.arctan(y / x)\n",
    "    else:\n",
    "        if(y > 0):\n",
    "            theta = math.pi/2\n",
    "        else:\n",
    "            theta = -math.pi/2\n",
    "    return {'r':r,'theta':theta}\n",
    "\n",
    "def get_teams():\n",
    "    teams = requests.get(\"https://statsapi.web.nhl.com/api/v1/teams\")\n",
    "    teams = teams.json()\n",
    "    teams_by_id = {}\n",
    "    for team in teams['teams']:\n",
    "        teams_by_id[team['id']] = team['name']\n",
    "    return teams_by_id\n",
    "\n"
   ]
  },
  {
   "cell_type": "code",
   "execution_count": null,
   "metadata": {},
   "outputs": [],
   "source": []
  },
  {
   "cell_type": "code",
   "execution_count": 3,
   "metadata": {},
   "outputs": [
    {
     "ename": "NameError",
     "evalue": "name 'date' is not defined",
     "output_type": "error",
     "traceback": [
      "\u001b[0;31m---------------------------------------------------------------------------\u001b[0m",
      "\u001b[0;31mNameError\u001b[0m                                 Traceback (most recent call last)",
      "\u001b[0;32m<ipython-input-3-56dbb94273e9>\u001b[0m in \u001b[0;36m<module>\u001b[0;34m\u001b[0m\n\u001b[1;32m      1\u001b[0m \u001b[0mteams_by_id\u001b[0m \u001b[0;34m=\u001b[0m \u001b[0mget_teams\u001b[0m\u001b[0;34m(\u001b[0m\u001b[0;34m)\u001b[0m\u001b[0;34m\u001b[0m\u001b[0;34m\u001b[0m\u001b[0m\n\u001b[0;32m----> 2\u001b[0;31m \u001b[0;32mif\u001b[0m \u001b[0;34m(\u001b[0m\u001b[0mdate\u001b[0m\u001b[0;34m)\u001b[0m\u001b[0;34m:\u001b[0m\u001b[0;34m\u001b[0m\u001b[0;34m\u001b[0m\u001b[0m\n\u001b[0m\u001b[1;32m      3\u001b[0m     \u001b[0mschedule\u001b[0m \u001b[0;34m=\u001b[0m \u001b[0mrequests\u001b[0m\u001b[0;34m.\u001b[0m\u001b[0mget\u001b[0m\u001b[0;34m(\u001b[0m\u001b[0;34m\"https://statsapi.web.nhl.com/api/v1/schedule?date=\"\u001b[0m\u001b[0;34m+\u001b[0m\u001b[0mstr\u001b[0m\u001b[0;34m(\u001b[0m\u001b[0mdate\u001b[0m\u001b[0;34m)\u001b[0m\u001b[0;34m)\u001b[0m\u001b[0;34m\u001b[0m\u001b[0;34m\u001b[0m\u001b[0m\n\u001b[1;32m      4\u001b[0m \u001b[0;32melse\u001b[0m\u001b[0;34m:\u001b[0m\u001b[0;34m\u001b[0m\u001b[0;34m\u001b[0m\u001b[0m\n\u001b[1;32m      5\u001b[0m     \u001b[0mschedule\u001b[0m \u001b[0;34m=\u001b[0m \u001b[0mrequests\u001b[0m\u001b[0;34m.\u001b[0m\u001b[0mget\u001b[0m\u001b[0;34m(\u001b[0m\u001b[0;34m\"https://statsapi.web.nhl.com/api/v1/schedule\"\u001b[0m\u001b[0;34m)\u001b[0m\u001b[0;34m\u001b[0m\u001b[0;34m\u001b[0m\u001b[0m\n",
      "\u001b[0;31mNameError\u001b[0m: name 'date' is not defined"
     ]
    }
   ],
   "source": [
    "    teams_by_id = get_teams()\n",
    "    if (date):\n",
    "        schedule = requests.get(\"https://statsapi.web.nhl.com/api/v1/schedule?date=\"+str(date))\n",
    "    else:\n",
    "        schedule = requests.get(\"https://statsapi.web.nhl.com/api/v1/schedule\")\n",
    "    schedule = schedule.json()\n",
    "    directory = schedule['dates'][0]['date']\n",
    "    if not os.path.exists(directory):\n",
    "        os.mkdir(directory)\n",
    "    for date in schedule['dates']:\n",
    "        for gm in date['games']:\n",
    "            print_graphs(gm['gamePk'],teams_by_id,schedule,directory)\n",
    "    plt.close('all')"
   ]
  },
  {
   "cell_type": "code",
   "execution_count": null,
   "metadata": {},
   "outputs": [],
   "source": []
  }
 ],
 "metadata": {
  "kernelspec": {
   "display_name": "Python 3",
   "language": "python",
   "name": "python3"
  },
  "language_info": {
   "codemirror_mode": {
    "name": "ipython",
    "version": 3
   },
   "file_extension": ".py",
   "mimetype": "text/x-python",
   "name": "python",
   "nbconvert_exporter": "python",
   "pygments_lexer": "ipython3",
   "version": "3.6.8"
  }
 },
 "nbformat": 4,
 "nbformat_minor": 2
}
