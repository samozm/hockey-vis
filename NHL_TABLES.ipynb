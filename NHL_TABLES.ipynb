{
 "cells": [
  {
   "cell_type": "code",
   "execution_count": 3,
   "metadata": {},
   "outputs": [],
   "source": [
    "import os\n",
    "import sys\n",
    "import getopt\n",
    "import json\n",
    "import requests\n",
    "import math\n",
    "import pandas as pd\n",
    "import matplotlib.pyplot as plt\n",
    "import numpy as np"
   ]
  },
  {
   "cell_type": "code",
   "execution_count": 4,
   "metadata": {},
   "outputs": [],
   "source": [
    "def get_shots_info(game_id):\n",
    "    game = requests.get(\"https://statsapi.web.nhl.com/api/v1/game/\"+str(game_id)+\"/feed/live\")\n",
    "    game = game.json()\n",
    "    playTypes = [\"Blocked Shot\",\"Shot\",\"Goal\",\"Missed Shot\"]\n",
    "    all_shots = []\n",
    "    for play in game['liveData']['plays']['allPlays']:\n",
    "        if play['result']['event'] in playTypes:\n",
    "            all_shots.append(play)\n",
    "    away_team_id = game['gameData']['teams']['away']['id']\n",
    "    home_team_id = game['gameData']['teams']['home']['id']\n",
    "    shots_df = pd.DataFrame(columns=[\"gameID\",\"teamID\",\"opponentID\",\"playerName\",\"playerID\",\"result\",\"Xcoord\",\"Ycoord\",\"period\",\"time\",\"shooterTeamGoals\",\"opponentGoals\", \"goalie\"])\n",
    "    for shot in all_shots:\n",
    "        # print(json.dumps(shot,indent=2))\n",
    "        # print(num)\n",
    "        dict_to_append = { }\n",
    "        dict_to_append['gameID'] = game_id\n",
    "        for player in shot['players']:\n",
    "            if (player['playerType']=='Shooter' or player['playerType']=='Scorer'):\n",
    "                dict_to_append['playerName'] = player['player']['fullName']\n",
    "                dict_to_append['playerID'] = player['player']['id']\n",
    "            if (player['playerType']=='Goalie'):\n",
    "                dict_to_append['goalie'] = player['player']['fullName']\n",
    "        if ('event' in shot['result']):\n",
    "            dict_to_append['result'] = shot['result']['event']\n",
    "        if ('x' in shot['coordinates'] and 'y' in shot['coordinates']):\n",
    "            dict_to_append['Xcoord'] = shot['coordinates']['x']\n",
    "            dict_to_append['Ycoord'] = shot['coordinates']['y']\n",
    "        if ('period' in shot['about']):\n",
    "            dict_to_append['period'] = shot['about']['period']\n",
    "        if ('periodTime' in shot['about']):\n",
    "            dict_to_append['time'] = shot['about']['periodTime']\n",
    "        if ('goals' in shot['about'] and 'id' in shot['team'] and shot['team']['id'] == home_team_id):\n",
    "            dict_to_append['shooterTeamGoals'] = shot['about']['goals']['home']\n",
    "            dict_to_append['opponentGoals'] = shot['about']['goals']['away']\n",
    "            dict_to_append['opponentID'] = away_team_id\n",
    "            dict_to_append['teamID'] = home_team_id\n",
    "        elif ('goals' in shot['about']):\n",
    "            dict_to_append['shooterTeamGoals'] = shot['about']['goals']['away']\n",
    "            dict_to_append['opponentGoals'] = shot['about']['goals']['home']\n",
    "            dict_to_append['opponentID'] = home_team_id\n",
    "            dict_to_append['teamID'] = away_team_id\n",
    "        # print(pd.DataFrame(dict_to_append, columns=dict_to_append.keys(),index=[0]))\n",
    "        shots_df = shots_df.append(dict_to_append, ignore_index=True)\n",
    "        # print(shots_df)\n",
    "    return shots_df"
   ]
  },
  {
   "cell_type": "code",
   "execution_count": 5,
   "metadata": {},
   "outputs": [],
   "source": [
    "def main():\n",
    "    teams = requests.get(\"https://statsapi.web.nhl.com/api/v1/teams\")\n",
    "    teams = teams.json()\n",
    "    teams_by_id = {}\n",
    "    for team in teams['teams']:\n",
    "        teams_by_id[team['id']] = team['name']\n",
    "    schedule = requests.get(\"https://statsapi.web.nhl.com/api/v1/schedule?startDate=2018-10-03&endDate=2019-04-06\")\n",
    "    schedule = schedule.json()\n",
    "    shots_df = pd.DataFrame(columns=[\"gameID\",\"teamID\",\"opponentID\",\"playerName\",\"playerID\",\"result\",\"Xcoord\",\"Ycoord\",\"period\",\"time\",\"shooterTeamGoals\",\"opponentGoals\", \"goalie\"])\n",
    "    for date in schedule['dates']:\n",
    "        for game in date['games']:\n",
    "            game_id = game['gamePk']\n",
    "            shots_df = shots_df.append(get_shots_info(game_id), ignore_index=True)\n",
    "    return shots_df\n"
   ]
  },
  {
   "cell_type": "code",
   "execution_count": null,
   "metadata": {},
   "outputs": [],
   "source": [
    "shots = main()\n",
    "shots.head"
   ]
  },
  {
   "cell_type": "code",
   "execution_count": null,
   "metadata": {},
   "outputs": [],
   "source": []
  }
 ],
 "metadata": {
  "kernelspec": {
   "display_name": "Python 3",
   "language": "python",
   "name": "python3"
  },
  "language_info": {
   "codemirror_mode": {
    "name": "ipython",
    "version": 3
   },
   "file_extension": ".py",
   "mimetype": "text/x-python",
   "name": "python",
   "nbconvert_exporter": "python",
   "pygments_lexer": "ipython3",
   "version": "3.7.4"
  }
 },
 "nbformat": 4,
 "nbformat_minor": 2
}
